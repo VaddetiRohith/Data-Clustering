{
 "cells": [
  {
   "cell_type": "code",
   "execution_count": 1,
   "id": "8ce5318c",
   "metadata": {
    "ExecuteTime": {
     "end_time": "2022-12-22T09:00:32.046493Z",
     "start_time": "2022-12-22T09:00:29.466210Z"
    }
   },
   "outputs": [],
   "source": [
    "import pandas as pd\n",
    "import numpy as np\n",
    "import matplotlib.pyplot as plt\n",
    "import seaborn as sns\n",
    "import warnings\n",
    "warnings.filterwarnings('ignore')\n",
    "%matplotlib inline"
   ]
  },
  {
   "cell_type": "code",
   "execution_count": 2,
   "id": "be7e8f57",
   "metadata": {
    "ExecuteTime": {
     "end_time": "2022-12-22T09:00:32.136216Z",
     "start_time": "2022-12-22T09:00:32.049332Z"
    }
   },
   "outputs": [
    {
     "data": {
      "text/html": [
       "<div>\n",
       "<style scoped>\n",
       "    .dataframe tbody tr th:only-of-type {\n",
       "        vertical-align: middle;\n",
       "    }\n",
       "\n",
       "    .dataframe tbody tr th {\n",
       "        vertical-align: top;\n",
       "    }\n",
       "\n",
       "    .dataframe thead th {\n",
       "        text-align: right;\n",
       "    }\n",
       "</style>\n",
       "<table border=\"1\" class=\"dataframe\">\n",
       "  <thead>\n",
       "    <tr style=\"text-align: right;\">\n",
       "      <th></th>\n",
       "      <th>symboling</th>\n",
       "      <th>normalized-losses</th>\n",
       "      <th>make</th>\n",
       "      <th>fuel-type</th>\n",
       "      <th>body-style</th>\n",
       "      <th>drive-wheels</th>\n",
       "      <th>engine-location</th>\n",
       "      <th>width</th>\n",
       "      <th>height</th>\n",
       "      <th>engine-type</th>\n",
       "      <th>engine-size</th>\n",
       "      <th>horsepower</th>\n",
       "      <th>city-mpg</th>\n",
       "      <th>highway-mpg</th>\n",
       "      <th>price</th>\n",
       "    </tr>\n",
       "  </thead>\n",
       "  <tbody>\n",
       "    <tr>\n",
       "      <th>0</th>\n",
       "      <td>3</td>\n",
       "      <td>?</td>\n",
       "      <td>alfa-romero</td>\n",
       "      <td>gas</td>\n",
       "      <td>convertible</td>\n",
       "      <td>rwd</td>\n",
       "      <td>front</td>\n",
       "      <td>64.1</td>\n",
       "      <td>48.8</td>\n",
       "      <td>dohc</td>\n",
       "      <td>130</td>\n",
       "      <td>111</td>\n",
       "      <td>21</td>\n",
       "      <td>27</td>\n",
       "      <td>13495</td>\n",
       "    </tr>\n",
       "    <tr>\n",
       "      <th>1</th>\n",
       "      <td>3</td>\n",
       "      <td>?</td>\n",
       "      <td>alfa-romero</td>\n",
       "      <td>gas</td>\n",
       "      <td>convertible</td>\n",
       "      <td>rwd</td>\n",
       "      <td>front</td>\n",
       "      <td>64.1</td>\n",
       "      <td>48.8</td>\n",
       "      <td>dohc</td>\n",
       "      <td>130</td>\n",
       "      <td>111</td>\n",
       "      <td>21</td>\n",
       "      <td>27</td>\n",
       "      <td>16500</td>\n",
       "    </tr>\n",
       "    <tr>\n",
       "      <th>2</th>\n",
       "      <td>1</td>\n",
       "      <td>?</td>\n",
       "      <td>alfa-romero</td>\n",
       "      <td>gas</td>\n",
       "      <td>hatchback</td>\n",
       "      <td>rwd</td>\n",
       "      <td>front</td>\n",
       "      <td>65.5</td>\n",
       "      <td>52.4</td>\n",
       "      <td>ohcv</td>\n",
       "      <td>152</td>\n",
       "      <td>154</td>\n",
       "      <td>19</td>\n",
       "      <td>26</td>\n",
       "      <td>16500</td>\n",
       "    </tr>\n",
       "    <tr>\n",
       "      <th>3</th>\n",
       "      <td>2</td>\n",
       "      <td>164</td>\n",
       "      <td>audi</td>\n",
       "      <td>gas</td>\n",
       "      <td>sedan</td>\n",
       "      <td>fwd</td>\n",
       "      <td>front</td>\n",
       "      <td>66.2</td>\n",
       "      <td>54.3</td>\n",
       "      <td>ohc</td>\n",
       "      <td>109</td>\n",
       "      <td>102</td>\n",
       "      <td>24</td>\n",
       "      <td>30</td>\n",
       "      <td>13950</td>\n",
       "    </tr>\n",
       "    <tr>\n",
       "      <th>4</th>\n",
       "      <td>2</td>\n",
       "      <td>164</td>\n",
       "      <td>audi</td>\n",
       "      <td>gas</td>\n",
       "      <td>sedan</td>\n",
       "      <td>4wd</td>\n",
       "      <td>front</td>\n",
       "      <td>66.4</td>\n",
       "      <td>54.3</td>\n",
       "      <td>ohc</td>\n",
       "      <td>136</td>\n",
       "      <td>115</td>\n",
       "      <td>18</td>\n",
       "      <td>22</td>\n",
       "      <td>17450</td>\n",
       "    </tr>\n",
       "  </tbody>\n",
       "</table>\n",
       "</div>"
      ],
      "text/plain": [
       "   symboling normalized-losses         make fuel-type   body-style  \\\n",
       "0          3                 ?  alfa-romero       gas  convertible   \n",
       "1          3                 ?  alfa-romero       gas  convertible   \n",
       "2          1                 ?  alfa-romero       gas    hatchback   \n",
       "3          2               164         audi       gas        sedan   \n",
       "4          2               164         audi       gas        sedan   \n",
       "\n",
       "  drive-wheels engine-location  width  height engine-type  engine-size  \\\n",
       "0          rwd           front   64.1    48.8        dohc          130   \n",
       "1          rwd           front   64.1    48.8        dohc          130   \n",
       "2          rwd           front   65.5    52.4        ohcv          152   \n",
       "3          fwd           front   66.2    54.3         ohc          109   \n",
       "4          4wd           front   66.4    54.3         ohc          136   \n",
       "\n",
       "  horsepower  city-mpg  highway-mpg  price  \n",
       "0        111        21           27  13495  \n",
       "1        111        21           27  16500  \n",
       "2        154        19           26  16500  \n",
       "3        102        24           30  13950  \n",
       "4        115        18           22  17450  "
      ]
     },
     "execution_count": 2,
     "metadata": {},
     "output_type": "execute_result"
    }
   ],
   "source": [
    "df = pd.read_csv(r\"C:\\Users\\Aishwarya\\Desktop\\Datasets\\cars.csv\")\n",
    "df.head()"
   ]
  },
  {
   "cell_type": "code",
   "execution_count": 3,
   "id": "b2a4636c",
   "metadata": {
    "ExecuteTime": {
     "end_time": "2022-12-22T09:00:32.151270Z",
     "start_time": "2022-12-22T09:00:32.139223Z"
    }
   },
   "outputs": [
    {
     "data": {
      "text/plain": [
       "symboling            0\n",
       "normalized-losses    0\n",
       "make                 0\n",
       "fuel-type            0\n",
       "body-style           0\n",
       "drive-wheels         0\n",
       "engine-location      0\n",
       "width                0\n",
       "height               0\n",
       "engine-type          0\n",
       "engine-size          0\n",
       "horsepower           0\n",
       "city-mpg             0\n",
       "highway-mpg          0\n",
       "price                0\n",
       "dtype: int64"
      ]
     },
     "execution_count": 3,
     "metadata": {},
     "output_type": "execute_result"
    }
   ],
   "source": [
    "df.isna().sum()"
   ]
  },
  {
   "cell_type": "code",
   "execution_count": 4,
   "id": "f7ed89b1",
   "metadata": {
    "ExecuteTime": {
     "end_time": "2022-12-22T09:00:32.167328Z",
     "start_time": "2022-12-22T09:00:32.156317Z"
    }
   },
   "outputs": [],
   "source": [
    "df.replace('?', np.nan, inplace=True)"
   ]
  },
  {
   "cell_type": "code",
   "execution_count": 5,
   "id": "c95c9784",
   "metadata": {
    "ExecuteTime": {
     "end_time": "2022-12-22T09:00:32.215313Z",
     "start_time": "2022-12-22T09:00:32.174867Z"
    }
   },
   "outputs": [
    {
     "data": {
      "text/html": [
       "<div>\n",
       "<style scoped>\n",
       "    .dataframe tbody tr th:only-of-type {\n",
       "        vertical-align: middle;\n",
       "    }\n",
       "\n",
       "    .dataframe tbody tr th {\n",
       "        vertical-align: top;\n",
       "    }\n",
       "\n",
       "    .dataframe thead th {\n",
       "        text-align: right;\n",
       "    }\n",
       "</style>\n",
       "<table border=\"1\" class=\"dataframe\">\n",
       "  <thead>\n",
       "    <tr style=\"text-align: right;\">\n",
       "      <th></th>\n",
       "      <th>symboling</th>\n",
       "      <th>normalized-losses</th>\n",
       "      <th>make</th>\n",
       "      <th>fuel-type</th>\n",
       "      <th>body-style</th>\n",
       "      <th>drive-wheels</th>\n",
       "      <th>engine-location</th>\n",
       "      <th>width</th>\n",
       "      <th>height</th>\n",
       "      <th>engine-type</th>\n",
       "      <th>engine-size</th>\n",
       "      <th>horsepower</th>\n",
       "      <th>city-mpg</th>\n",
       "      <th>highway-mpg</th>\n",
       "      <th>price</th>\n",
       "    </tr>\n",
       "  </thead>\n",
       "  <tbody>\n",
       "    <tr>\n",
       "      <th>0</th>\n",
       "      <td>3</td>\n",
       "      <td>NaN</td>\n",
       "      <td>alfa-romero</td>\n",
       "      <td>gas</td>\n",
       "      <td>convertible</td>\n",
       "      <td>rwd</td>\n",
       "      <td>front</td>\n",
       "      <td>64.1</td>\n",
       "      <td>48.8</td>\n",
       "      <td>dohc</td>\n",
       "      <td>130</td>\n",
       "      <td>111</td>\n",
       "      <td>21</td>\n",
       "      <td>27</td>\n",
       "      <td>13495</td>\n",
       "    </tr>\n",
       "    <tr>\n",
       "      <th>1</th>\n",
       "      <td>3</td>\n",
       "      <td>NaN</td>\n",
       "      <td>alfa-romero</td>\n",
       "      <td>gas</td>\n",
       "      <td>convertible</td>\n",
       "      <td>rwd</td>\n",
       "      <td>front</td>\n",
       "      <td>64.1</td>\n",
       "      <td>48.8</td>\n",
       "      <td>dohc</td>\n",
       "      <td>130</td>\n",
       "      <td>111</td>\n",
       "      <td>21</td>\n",
       "      <td>27</td>\n",
       "      <td>16500</td>\n",
       "    </tr>\n",
       "    <tr>\n",
       "      <th>2</th>\n",
       "      <td>1</td>\n",
       "      <td>NaN</td>\n",
       "      <td>alfa-romero</td>\n",
       "      <td>gas</td>\n",
       "      <td>hatchback</td>\n",
       "      <td>rwd</td>\n",
       "      <td>front</td>\n",
       "      <td>65.5</td>\n",
       "      <td>52.4</td>\n",
       "      <td>ohcv</td>\n",
       "      <td>152</td>\n",
       "      <td>154</td>\n",
       "      <td>19</td>\n",
       "      <td>26</td>\n",
       "      <td>16500</td>\n",
       "    </tr>\n",
       "    <tr>\n",
       "      <th>3</th>\n",
       "      <td>2</td>\n",
       "      <td>164</td>\n",
       "      <td>audi</td>\n",
       "      <td>gas</td>\n",
       "      <td>sedan</td>\n",
       "      <td>fwd</td>\n",
       "      <td>front</td>\n",
       "      <td>66.2</td>\n",
       "      <td>54.3</td>\n",
       "      <td>ohc</td>\n",
       "      <td>109</td>\n",
       "      <td>102</td>\n",
       "      <td>24</td>\n",
       "      <td>30</td>\n",
       "      <td>13950</td>\n",
       "    </tr>\n",
       "    <tr>\n",
       "      <th>4</th>\n",
       "      <td>2</td>\n",
       "      <td>164</td>\n",
       "      <td>audi</td>\n",
       "      <td>gas</td>\n",
       "      <td>sedan</td>\n",
       "      <td>4wd</td>\n",
       "      <td>front</td>\n",
       "      <td>66.4</td>\n",
       "      <td>54.3</td>\n",
       "      <td>ohc</td>\n",
       "      <td>136</td>\n",
       "      <td>115</td>\n",
       "      <td>18</td>\n",
       "      <td>22</td>\n",
       "      <td>17450</td>\n",
       "    </tr>\n",
       "  </tbody>\n",
       "</table>\n",
       "</div>"
      ],
      "text/plain": [
       "   symboling normalized-losses         make fuel-type   body-style  \\\n",
       "0          3               NaN  alfa-romero       gas  convertible   \n",
       "1          3               NaN  alfa-romero       gas  convertible   \n",
       "2          1               NaN  alfa-romero       gas    hatchback   \n",
       "3          2               164         audi       gas        sedan   \n",
       "4          2               164         audi       gas        sedan   \n",
       "\n",
       "  drive-wheels engine-location  width  height engine-type  engine-size  \\\n",
       "0          rwd           front   64.1    48.8        dohc          130   \n",
       "1          rwd           front   64.1    48.8        dohc          130   \n",
       "2          rwd           front   65.5    52.4        ohcv          152   \n",
       "3          fwd           front   66.2    54.3         ohc          109   \n",
       "4          4wd           front   66.4    54.3         ohc          136   \n",
       "\n",
       "  horsepower  city-mpg  highway-mpg  price  \n",
       "0        111        21           27  13495  \n",
       "1        111        21           27  16500  \n",
       "2        154        19           26  16500  \n",
       "3        102        24           30  13950  \n",
       "4        115        18           22  17450  "
      ]
     },
     "execution_count": 5,
     "metadata": {},
     "output_type": "execute_result"
    }
   ],
   "source": [
    "df.head()"
   ]
  },
  {
   "cell_type": "code",
   "execution_count": 6,
   "id": "fe4027a9",
   "metadata": {
    "ExecuteTime": {
     "end_time": "2022-12-22T09:00:32.542358Z",
     "start_time": "2022-12-22T09:00:32.225915Z"
    }
   },
   "outputs": [],
   "source": [
    "from sklearn.impute import SimpleImputer"
   ]
  },
  {
   "cell_type": "code",
   "execution_count": 7,
   "id": "a688873b",
   "metadata": {
    "ExecuteTime": {
     "end_time": "2022-12-22T09:00:32.589896Z",
     "start_time": "2022-12-22T09:00:32.552199Z"
    }
   },
   "outputs": [
    {
     "data": {
      "text/html": [
       "<div>\n",
       "<style scoped>\n",
       "    .dataframe tbody tr th:only-of-type {\n",
       "        vertical-align: middle;\n",
       "    }\n",
       "\n",
       "    .dataframe tbody tr th {\n",
       "        vertical-align: top;\n",
       "    }\n",
       "\n",
       "    .dataframe thead th {\n",
       "        text-align: right;\n",
       "    }\n",
       "</style>\n",
       "<table border=\"1\" class=\"dataframe\">\n",
       "  <thead>\n",
       "    <tr style=\"text-align: right;\">\n",
       "      <th></th>\n",
       "      <th>symboling</th>\n",
       "      <th>normalized-losses</th>\n",
       "      <th>make</th>\n",
       "      <th>fuel-type</th>\n",
       "      <th>body-style</th>\n",
       "      <th>drive-wheels</th>\n",
       "      <th>engine-location</th>\n",
       "      <th>width</th>\n",
       "      <th>height</th>\n",
       "      <th>engine-type</th>\n",
       "      <th>engine-size</th>\n",
       "      <th>horsepower</th>\n",
       "      <th>city-mpg</th>\n",
       "      <th>highway-mpg</th>\n",
       "      <th>price</th>\n",
       "    </tr>\n",
       "  </thead>\n",
       "  <tbody>\n",
       "    <tr>\n",
       "      <th>0</th>\n",
       "      <td>3</td>\n",
       "      <td>122.0</td>\n",
       "      <td>alfa-romero</td>\n",
       "      <td>gas</td>\n",
       "      <td>convertible</td>\n",
       "      <td>rwd</td>\n",
       "      <td>front</td>\n",
       "      <td>64.1</td>\n",
       "      <td>48.8</td>\n",
       "      <td>dohc</td>\n",
       "      <td>130</td>\n",
       "      <td>111.0</td>\n",
       "      <td>21</td>\n",
       "      <td>27</td>\n",
       "      <td>13495</td>\n",
       "    </tr>\n",
       "    <tr>\n",
       "      <th>1</th>\n",
       "      <td>3</td>\n",
       "      <td>122.0</td>\n",
       "      <td>alfa-romero</td>\n",
       "      <td>gas</td>\n",
       "      <td>convertible</td>\n",
       "      <td>rwd</td>\n",
       "      <td>front</td>\n",
       "      <td>64.1</td>\n",
       "      <td>48.8</td>\n",
       "      <td>dohc</td>\n",
       "      <td>130</td>\n",
       "      <td>111.0</td>\n",
       "      <td>21</td>\n",
       "      <td>27</td>\n",
       "      <td>16500</td>\n",
       "    </tr>\n",
       "    <tr>\n",
       "      <th>2</th>\n",
       "      <td>1</td>\n",
       "      <td>122.0</td>\n",
       "      <td>alfa-romero</td>\n",
       "      <td>gas</td>\n",
       "      <td>hatchback</td>\n",
       "      <td>rwd</td>\n",
       "      <td>front</td>\n",
       "      <td>65.5</td>\n",
       "      <td>52.4</td>\n",
       "      <td>ohcv</td>\n",
       "      <td>152</td>\n",
       "      <td>154.0</td>\n",
       "      <td>19</td>\n",
       "      <td>26</td>\n",
       "      <td>16500</td>\n",
       "    </tr>\n",
       "    <tr>\n",
       "      <th>3</th>\n",
       "      <td>2</td>\n",
       "      <td>164.0</td>\n",
       "      <td>audi</td>\n",
       "      <td>gas</td>\n",
       "      <td>sedan</td>\n",
       "      <td>fwd</td>\n",
       "      <td>front</td>\n",
       "      <td>66.2</td>\n",
       "      <td>54.3</td>\n",
       "      <td>ohc</td>\n",
       "      <td>109</td>\n",
       "      <td>102.0</td>\n",
       "      <td>24</td>\n",
       "      <td>30</td>\n",
       "      <td>13950</td>\n",
       "    </tr>\n",
       "    <tr>\n",
       "      <th>4</th>\n",
       "      <td>2</td>\n",
       "      <td>164.0</td>\n",
       "      <td>audi</td>\n",
       "      <td>gas</td>\n",
       "      <td>sedan</td>\n",
       "      <td>4wd</td>\n",
       "      <td>front</td>\n",
       "      <td>66.4</td>\n",
       "      <td>54.3</td>\n",
       "      <td>ohc</td>\n",
       "      <td>136</td>\n",
       "      <td>115.0</td>\n",
       "      <td>18</td>\n",
       "      <td>22</td>\n",
       "      <td>17450</td>\n",
       "    </tr>\n",
       "  </tbody>\n",
       "</table>\n",
       "</div>"
      ],
      "text/plain": [
       "   symboling  normalized-losses         make fuel-type   body-style  \\\n",
       "0          3              122.0  alfa-romero       gas  convertible   \n",
       "1          3              122.0  alfa-romero       gas  convertible   \n",
       "2          1              122.0  alfa-romero       gas    hatchback   \n",
       "3          2              164.0         audi       gas        sedan   \n",
       "4          2              164.0         audi       gas        sedan   \n",
       "\n",
       "  drive-wheels engine-location  width  height engine-type  engine-size  \\\n",
       "0          rwd           front   64.1    48.8        dohc          130   \n",
       "1          rwd           front   64.1    48.8        dohc          130   \n",
       "2          rwd           front   65.5    52.4        ohcv          152   \n",
       "3          fwd           front   66.2    54.3         ohc          109   \n",
       "4          4wd           front   66.4    54.3         ohc          136   \n",
       "\n",
       "   horsepower  city-mpg  highway-mpg  price  \n",
       "0       111.0        21           27  13495  \n",
       "1       111.0        21           27  16500  \n",
       "2       154.0        19           26  16500  \n",
       "3       102.0        24           30  13950  \n",
       "4       115.0        18           22  17450  "
      ]
     },
     "execution_count": 7,
     "metadata": {},
     "output_type": "execute_result"
    }
   ],
   "source": [
    "si = SimpleImputer()\n",
    "\n",
    "df.iloc[:,[1,11]] = si.fit_transform(df.iloc[:,[1,11]])\n",
    "\n",
    "df.head()"
   ]
  },
  {
   "cell_type": "code",
   "execution_count": 8,
   "id": "e82f96f5",
   "metadata": {
    "ExecuteTime": {
     "end_time": "2022-12-22T09:00:32.605613Z",
     "start_time": "2022-12-22T09:00:32.591994Z"
    }
   },
   "outputs": [],
   "source": [
    "from sklearn.preprocessing import OrdinalEncoder"
   ]
  },
  {
   "cell_type": "code",
   "execution_count": 9,
   "id": "5d607df7",
   "metadata": {
    "ExecuteTime": {
     "end_time": "2022-12-22T09:00:32.620967Z",
     "start_time": "2022-12-22T09:00:32.607626Z"
    }
   },
   "outputs": [],
   "source": [
    "oe = OrdinalEncoder()"
   ]
  },
  {
   "cell_type": "code",
   "execution_count": 10,
   "id": "d8db0c37",
   "metadata": {
    "ExecuteTime": {
     "end_time": "2022-12-22T09:00:32.651979Z",
     "start_time": "2022-12-22T09:00:32.631207Z"
    }
   },
   "outputs": [
    {
     "data": {
      "text/plain": [
       "Index(['make', 'fuel-type', 'body-style', 'drive-wheels', 'engine-location',\n",
       "       'engine-type'],\n",
       "      dtype='object')"
      ]
     },
     "execution_count": 10,
     "metadata": {},
     "output_type": "execute_result"
    }
   ],
   "source": [
    "#Selecting Categorical columns\n",
    "\n",
    "cat_cols = df.select_dtypes(object).columns\n",
    "\n",
    "cat_cols"
   ]
  },
  {
   "cell_type": "code",
   "execution_count": 11,
   "id": "ec556878",
   "metadata": {
    "ExecuteTime": {
     "end_time": "2022-12-22T09:00:32.668036Z",
     "start_time": "2022-12-22T09:00:32.655033Z"
    }
   },
   "outputs": [],
   "source": [
    "df[cat_cols] = oe.fit_transform(df[cat_cols])"
   ]
  },
  {
   "cell_type": "code",
   "execution_count": 12,
   "id": "61204976",
   "metadata": {
    "ExecuteTime": {
     "end_time": "2022-12-22T09:00:32.731054Z",
     "start_time": "2022-12-22T09:00:32.671071Z"
    },
    "collapsed": true
   },
   "outputs": [
    {
     "data": {
      "text/html": [
       "<div>\n",
       "<style scoped>\n",
       "    .dataframe tbody tr th:only-of-type {\n",
       "        vertical-align: middle;\n",
       "    }\n",
       "\n",
       "    .dataframe tbody tr th {\n",
       "        vertical-align: top;\n",
       "    }\n",
       "\n",
       "    .dataframe thead th {\n",
       "        text-align: right;\n",
       "    }\n",
       "</style>\n",
       "<table border=\"1\" class=\"dataframe\">\n",
       "  <thead>\n",
       "    <tr style=\"text-align: right;\">\n",
       "      <th></th>\n",
       "      <th>symboling</th>\n",
       "      <th>normalized-losses</th>\n",
       "      <th>make</th>\n",
       "      <th>fuel-type</th>\n",
       "      <th>body-style</th>\n",
       "      <th>drive-wheels</th>\n",
       "      <th>engine-location</th>\n",
       "      <th>width</th>\n",
       "      <th>height</th>\n",
       "      <th>engine-type</th>\n",
       "      <th>engine-size</th>\n",
       "      <th>horsepower</th>\n",
       "      <th>city-mpg</th>\n",
       "      <th>highway-mpg</th>\n",
       "      <th>price</th>\n",
       "    </tr>\n",
       "  </thead>\n",
       "  <tbody>\n",
       "    <tr>\n",
       "      <th>0</th>\n",
       "      <td>3</td>\n",
       "      <td>122.0</td>\n",
       "      <td>0.0</td>\n",
       "      <td>1.0</td>\n",
       "      <td>0.0</td>\n",
       "      <td>2.0</td>\n",
       "      <td>0.0</td>\n",
       "      <td>64.1</td>\n",
       "      <td>48.8</td>\n",
       "      <td>0.0</td>\n",
       "      <td>130</td>\n",
       "      <td>111.0</td>\n",
       "      <td>21</td>\n",
       "      <td>27</td>\n",
       "      <td>13495</td>\n",
       "    </tr>\n",
       "    <tr>\n",
       "      <th>1</th>\n",
       "      <td>3</td>\n",
       "      <td>122.0</td>\n",
       "      <td>0.0</td>\n",
       "      <td>1.0</td>\n",
       "      <td>0.0</td>\n",
       "      <td>2.0</td>\n",
       "      <td>0.0</td>\n",
       "      <td>64.1</td>\n",
       "      <td>48.8</td>\n",
       "      <td>0.0</td>\n",
       "      <td>130</td>\n",
       "      <td>111.0</td>\n",
       "      <td>21</td>\n",
       "      <td>27</td>\n",
       "      <td>16500</td>\n",
       "    </tr>\n",
       "    <tr>\n",
       "      <th>2</th>\n",
       "      <td>1</td>\n",
       "      <td>122.0</td>\n",
       "      <td>0.0</td>\n",
       "      <td>1.0</td>\n",
       "      <td>2.0</td>\n",
       "      <td>2.0</td>\n",
       "      <td>0.0</td>\n",
       "      <td>65.5</td>\n",
       "      <td>52.4</td>\n",
       "      <td>5.0</td>\n",
       "      <td>152</td>\n",
       "      <td>154.0</td>\n",
       "      <td>19</td>\n",
       "      <td>26</td>\n",
       "      <td>16500</td>\n",
       "    </tr>\n",
       "    <tr>\n",
       "      <th>3</th>\n",
       "      <td>2</td>\n",
       "      <td>164.0</td>\n",
       "      <td>1.0</td>\n",
       "      <td>1.0</td>\n",
       "      <td>3.0</td>\n",
       "      <td>1.0</td>\n",
       "      <td>0.0</td>\n",
       "      <td>66.2</td>\n",
       "      <td>54.3</td>\n",
       "      <td>3.0</td>\n",
       "      <td>109</td>\n",
       "      <td>102.0</td>\n",
       "      <td>24</td>\n",
       "      <td>30</td>\n",
       "      <td>13950</td>\n",
       "    </tr>\n",
       "    <tr>\n",
       "      <th>4</th>\n",
       "      <td>2</td>\n",
       "      <td>164.0</td>\n",
       "      <td>1.0</td>\n",
       "      <td>1.0</td>\n",
       "      <td>3.0</td>\n",
       "      <td>0.0</td>\n",
       "      <td>0.0</td>\n",
       "      <td>66.4</td>\n",
       "      <td>54.3</td>\n",
       "      <td>3.0</td>\n",
       "      <td>136</td>\n",
       "      <td>115.0</td>\n",
       "      <td>18</td>\n",
       "      <td>22</td>\n",
       "      <td>17450</td>\n",
       "    </tr>\n",
       "    <tr>\n",
       "      <th>...</th>\n",
       "      <td>...</td>\n",
       "      <td>...</td>\n",
       "      <td>...</td>\n",
       "      <td>...</td>\n",
       "      <td>...</td>\n",
       "      <td>...</td>\n",
       "      <td>...</td>\n",
       "      <td>...</td>\n",
       "      <td>...</td>\n",
       "      <td>...</td>\n",
       "      <td>...</td>\n",
       "      <td>...</td>\n",
       "      <td>...</td>\n",
       "      <td>...</td>\n",
       "      <td>...</td>\n",
       "    </tr>\n",
       "    <tr>\n",
       "      <th>200</th>\n",
       "      <td>-1</td>\n",
       "      <td>95.0</td>\n",
       "      <td>21.0</td>\n",
       "      <td>1.0</td>\n",
       "      <td>3.0</td>\n",
       "      <td>2.0</td>\n",
       "      <td>0.0</td>\n",
       "      <td>68.9</td>\n",
       "      <td>55.5</td>\n",
       "      <td>3.0</td>\n",
       "      <td>141</td>\n",
       "      <td>114.0</td>\n",
       "      <td>23</td>\n",
       "      <td>28</td>\n",
       "      <td>16845</td>\n",
       "    </tr>\n",
       "    <tr>\n",
       "      <th>201</th>\n",
       "      <td>-1</td>\n",
       "      <td>95.0</td>\n",
       "      <td>21.0</td>\n",
       "      <td>1.0</td>\n",
       "      <td>3.0</td>\n",
       "      <td>2.0</td>\n",
       "      <td>0.0</td>\n",
       "      <td>68.8</td>\n",
       "      <td>55.5</td>\n",
       "      <td>3.0</td>\n",
       "      <td>141</td>\n",
       "      <td>160.0</td>\n",
       "      <td>19</td>\n",
       "      <td>25</td>\n",
       "      <td>19045</td>\n",
       "    </tr>\n",
       "    <tr>\n",
       "      <th>202</th>\n",
       "      <td>-1</td>\n",
       "      <td>95.0</td>\n",
       "      <td>21.0</td>\n",
       "      <td>1.0</td>\n",
       "      <td>3.0</td>\n",
       "      <td>2.0</td>\n",
       "      <td>0.0</td>\n",
       "      <td>68.9</td>\n",
       "      <td>55.5</td>\n",
       "      <td>5.0</td>\n",
       "      <td>173</td>\n",
       "      <td>134.0</td>\n",
       "      <td>18</td>\n",
       "      <td>23</td>\n",
       "      <td>21485</td>\n",
       "    </tr>\n",
       "    <tr>\n",
       "      <th>203</th>\n",
       "      <td>-1</td>\n",
       "      <td>95.0</td>\n",
       "      <td>21.0</td>\n",
       "      <td>0.0</td>\n",
       "      <td>3.0</td>\n",
       "      <td>2.0</td>\n",
       "      <td>0.0</td>\n",
       "      <td>68.9</td>\n",
       "      <td>55.5</td>\n",
       "      <td>3.0</td>\n",
       "      <td>145</td>\n",
       "      <td>106.0</td>\n",
       "      <td>26</td>\n",
       "      <td>27</td>\n",
       "      <td>22470</td>\n",
       "    </tr>\n",
       "    <tr>\n",
       "      <th>204</th>\n",
       "      <td>-1</td>\n",
       "      <td>95.0</td>\n",
       "      <td>21.0</td>\n",
       "      <td>1.0</td>\n",
       "      <td>3.0</td>\n",
       "      <td>2.0</td>\n",
       "      <td>0.0</td>\n",
       "      <td>68.9</td>\n",
       "      <td>55.5</td>\n",
       "      <td>3.0</td>\n",
       "      <td>141</td>\n",
       "      <td>114.0</td>\n",
       "      <td>19</td>\n",
       "      <td>25</td>\n",
       "      <td>22625</td>\n",
       "    </tr>\n",
       "  </tbody>\n",
       "</table>\n",
       "<p>205 rows × 15 columns</p>\n",
       "</div>"
      ],
      "text/plain": [
       "     symboling  normalized-losses  make  fuel-type  body-style  drive-wheels  \\\n",
       "0            3              122.0   0.0        1.0         0.0           2.0   \n",
       "1            3              122.0   0.0        1.0         0.0           2.0   \n",
       "2            1              122.0   0.0        1.0         2.0           2.0   \n",
       "3            2              164.0   1.0        1.0         3.0           1.0   \n",
       "4            2              164.0   1.0        1.0         3.0           0.0   \n",
       "..         ...                ...   ...        ...         ...           ...   \n",
       "200         -1               95.0  21.0        1.0         3.0           2.0   \n",
       "201         -1               95.0  21.0        1.0         3.0           2.0   \n",
       "202         -1               95.0  21.0        1.0         3.0           2.0   \n",
       "203         -1               95.0  21.0        0.0         3.0           2.0   \n",
       "204         -1               95.0  21.0        1.0         3.0           2.0   \n",
       "\n",
       "     engine-location  width  height  engine-type  engine-size  horsepower  \\\n",
       "0                0.0   64.1    48.8          0.0          130       111.0   \n",
       "1                0.0   64.1    48.8          0.0          130       111.0   \n",
       "2                0.0   65.5    52.4          5.0          152       154.0   \n",
       "3                0.0   66.2    54.3          3.0          109       102.0   \n",
       "4                0.0   66.4    54.3          3.0          136       115.0   \n",
       "..               ...    ...     ...          ...          ...         ...   \n",
       "200              0.0   68.9    55.5          3.0          141       114.0   \n",
       "201              0.0   68.8    55.5          3.0          141       160.0   \n",
       "202              0.0   68.9    55.5          5.0          173       134.0   \n",
       "203              0.0   68.9    55.5          3.0          145       106.0   \n",
       "204              0.0   68.9    55.5          3.0          141       114.0   \n",
       "\n",
       "     city-mpg  highway-mpg  price  \n",
       "0          21           27  13495  \n",
       "1          21           27  16500  \n",
       "2          19           26  16500  \n",
       "3          24           30  13950  \n",
       "4          18           22  17450  \n",
       "..        ...          ...    ...  \n",
       "200        23           28  16845  \n",
       "201        19           25  19045  \n",
       "202        18           23  21485  \n",
       "203        26           27  22470  \n",
       "204        19           25  22625  \n",
       "\n",
       "[205 rows x 15 columns]"
      ]
     },
     "execution_count": 12,
     "metadata": {},
     "output_type": "execute_result"
    }
   ],
   "source": [
    "df"
   ]
  },
  {
   "cell_type": "code",
   "execution_count": 13,
   "id": "754fc596",
   "metadata": {
    "ExecuteTime": {
     "end_time": "2022-12-22T09:00:32.746408Z",
     "start_time": "2022-12-22T09:00:32.737102Z"
    }
   },
   "outputs": [],
   "source": [
    "#feature scaling"
   ]
  },
  {
   "cell_type": "code",
   "execution_count": 14,
   "id": "f5b29f05",
   "metadata": {
    "ExecuteTime": {
     "end_time": "2022-12-22T09:00:32.761574Z",
     "start_time": "2022-12-22T09:00:32.750040Z"
    }
   },
   "outputs": [],
   "source": [
    "from sklearn.preprocessing import StandardScaler\n",
    "from sklearn.model_selection import train_test_split\n",
    "from sklearn.linear_model import LinearRegression, Lasso, Ridge"
   ]
  },
  {
   "cell_type": "code",
   "execution_count": 35,
   "id": "977e07f2",
   "metadata": {
    "ExecuteTime": {
     "end_time": "2022-12-22T09:07:56.343886Z",
     "start_time": "2022-12-22T09:07:56.335322Z"
    }
   },
   "outputs": [],
   "source": [
    "x = df.iloc[:,:-1]\n",
    "y = df['price']"
   ]
  },
  {
   "cell_type": "code",
   "execution_count": 36,
   "id": "af06277c",
   "metadata": {
    "ExecuteTime": {
     "end_time": "2022-12-22T09:07:56.653813Z",
     "start_time": "2022-12-22T09:07:56.645038Z"
    }
   },
   "outputs": [],
   "source": [
    "sc = StandardScaler()\n",
    "\n",
    "x = sc.fit_transform(x)"
   ]
  },
  {
   "cell_type": "code",
   "execution_count": 37,
   "id": "7e60d482",
   "metadata": {
    "ExecuteTime": {
     "end_time": "2022-12-22T09:07:56.980238Z",
     "start_time": "2022-12-22T09:07:56.965911Z"
    }
   },
   "outputs": [],
   "source": [
    "xtrain,xtest,ytrain,ytest = train_test_split(x,y,test_size=0.3, random_state=1)"
   ]
  },
  {
   "cell_type": "markdown",
   "id": "23af6a6b",
   "metadata": {},
   "source": [
    "# Linear Regression"
   ]
  },
  {
   "cell_type": "code",
   "execution_count": 38,
   "id": "4d401f3f",
   "metadata": {
    "ExecuteTime": {
     "end_time": "2022-12-22T09:07:59.320486Z",
     "start_time": "2022-12-22T09:07:59.297459Z"
    }
   },
   "outputs": [
    {
     "name": "stdout",
     "output_type": "stream",
     "text": [
      "Training Accuracy:  0.8504573774895474\n",
      "Testing Accuracy:  0.7965566780397382\n"
     ]
    }
   ],
   "source": [
    "lr = LinearRegression()\n",
    "\n",
    "lr.fit(xtrain,ytrain)\n",
    "\n",
    "ypred = lr.predict(xtest)\n",
    "\n",
    "print('Training Accuracy: ', lr.score(xtrain,ytrain))\n",
    "print('Testing Accuracy: ', lr.score(xtest,ytest))"
   ]
  },
  {
   "cell_type": "code",
   "execution_count": 39,
   "id": "26771477",
   "metadata": {
    "ExecuteTime": {
     "end_time": "2022-12-22T09:08:01.339488Z",
     "start_time": "2022-12-22T09:08:01.330898Z"
    }
   },
   "outputs": [
    {
     "data": {
      "text/plain": [
       "array([   56.07400861,    48.39390193, -1252.52182092,  -184.75278941,\n",
       "        -145.88866308,  1036.72639753,  1970.96992814,  1689.40021497,\n",
       "         884.01337611,   297.95302576,  4086.3172007 ,  -426.4324209 ,\n",
       "        2010.17555652, -2864.80162677])"
      ]
     },
     "execution_count": 39,
     "metadata": {},
     "output_type": "execute_result"
    }
   ],
   "source": [
    "lr.coef_"
   ]
  },
  {
   "cell_type": "markdown",
   "id": "db051c93",
   "metadata": {},
   "source": [
    "- Training Accuracy is high - Low bias\n",
    "- Testing Accuarcy is low - High variance.\n",
    "\n",
    "**Overfitting**"
   ]
  },
  {
   "cell_type": "markdown",
   "id": "2609f78b",
   "metadata": {},
   "source": [
    "# Ridge Regression"
   ]
  },
  {
   "cell_type": "code",
   "execution_count": 40,
   "id": "bed9f98d",
   "metadata": {
    "ExecuteTime": {
     "end_time": "2022-12-22T09:08:04.640996Z",
     "start_time": "2022-12-22T09:08:04.615960Z"
    }
   },
   "outputs": [
    {
     "name": "stdout",
     "output_type": "stream",
     "text": [
      "Training Accuracy:  0.844705971649782\n",
      "Testing Accuracy:  0.8090124333137608\n"
     ]
    }
   ],
   "source": [
    "rg = Ridge(alpha=10)\n",
    "rg.fit(xtrain,ytrain)\n",
    "rgpred = rg.predict(xtest)\n",
    "\n",
    "print('Training Accuracy: ', rg.score(xtrain,ytrain))\n",
    "print('Testing Accuracy: ', rg.score(xtest,ytest))"
   ]
  },
  {
   "cell_type": "code",
   "execution_count": 41,
   "id": "1c27e33e",
   "metadata": {
    "ExecuteTime": {
     "end_time": "2022-12-22T09:08:41.682663Z",
     "start_time": "2022-12-22T09:08:41.674324Z"
    }
   },
   "outputs": [
    {
     "data": {
      "text/plain": [
       "array([  -97.42219182,    39.01774323, -1178.93577768,  -427.87716367,\n",
       "        -256.72536309,  1008.04235933,  1741.20335144,  1584.2521081 ,\n",
       "         889.00698675,   369.51429426,  3415.87703201,   105.52553432,\n",
       "         231.52302995, -1229.50614652])"
      ]
     },
     "execution_count": 41,
     "metadata": {},
     "output_type": "execute_result"
    }
   ],
   "source": [
    "rg.coef_"
   ]
  },
  {
   "cell_type": "markdown",
   "id": "16475528",
   "metadata": {},
   "source": [
    "# Lasso Regression"
   ]
  },
  {
   "cell_type": "code",
   "execution_count": 42,
   "id": "905e21c0",
   "metadata": {
    "ExecuteTime": {
     "end_time": "2022-12-22T09:08:44.080700Z",
     "start_time": "2022-12-22T09:08:44.062067Z"
    }
   },
   "outputs": [
    {
     "name": "stdout",
     "output_type": "stream",
     "text": [
      "Training Accuracy:  0.8504558834782978\n",
      "Testing Accuracy:  0.7968051526874578\n"
     ]
    }
   ],
   "source": [
    "ls = Lasso()\n",
    "ls.fit(xtrain,ytrain)\n",
    "lspred = ls.predict(xtest)\n",
    "\n",
    "print('Training Accuracy: ', ls.score(xtrain,ytrain))\n",
    "print('Testing Accuracy: ', ls.score(xtest,ytest))"
   ]
  },
  {
   "cell_type": "code",
   "execution_count": 43,
   "id": "d1225c5e",
   "metadata": {
    "ExecuteTime": {
     "end_time": "2022-12-22T09:08:50.091977Z",
     "start_time": "2022-12-22T09:08:50.069930Z"
    }
   },
   "outputs": [
    {
     "data": {
      "text/plain": [
       "array([   53.19425108,    46.53995077, -1251.31704488,  -187.28981318,\n",
       "        -145.68836212,  1035.1514439 ,  1968.27005254,  1687.30899191,\n",
       "         882.24697527,   297.11381145,  4085.51142718,  -424.63918835,\n",
       "        1970.2111122 , -2827.58554588])"
      ]
     },
     "execution_count": 43,
     "metadata": {},
     "output_type": "execute_result"
    }
   ],
   "source": [
    "ls.coef_"
   ]
  },
  {
   "cell_type": "markdown",
   "id": "aed9fddc",
   "metadata": {},
   "source": [
    "# Selection of alpha"
   ]
  },
  {
   "cell_type": "code",
   "execution_count": 45,
   "id": "c9b49600",
   "metadata": {
    "ExecuteTime": {
     "end_time": "2022-12-22T09:09:12.609475Z",
     "start_time": "2022-12-22T09:09:12.505681Z"
    },
    "collapsed": true
   },
   "outputs": [
    {
     "name": "stdout",
     "output_type": "stream",
     "text": [
      "50 0.8210202675646218 0.8001572442693232\n",
      "51 0.8204618085475143 0.7997449481542974\n",
      "52 0.8199042867085053 0.7993295224095756\n",
      "53 0.819347672574628 0.7989111150548578\n",
      "54 0.8187919381886071 0.7984898652683314\n",
      "55 0.8182370570317002 0.7980659040533987\n",
      "56 0.8176830039499918 0.7976393548456788\n",
      "57 0.817129755084098 0.7972103340664384\n",
      "58 0.8165772878022212 0.7967789516278836\n",
      "59 0.8160255806364689 0.7963453113951322\n",
      "60 0.8154746132223399 0.7959095116091375\n",
      "61 0.8149243662412685 0.7954716452743648\n",
      "62 0.8143748213661108 0.795031800514603\n",
      "63 0.8138259612094572 0.7945900608999281\n",
      "64 0.8132777692746445 0.7941465057475157\n",
      "65 0.8127302299093517 0.7937012103987114\n",
      "66 0.8121833282616542 0.7932542464745236\n",
      "67 0.8116370502384196 0.7928056821114753\n",
      "68 0.8110913824659298 0.7923555821795594\n",
      "69 0.8105463122526164 0.7919040084838641\n",
      "70 0.8100018275537989 0.7914510199512851\n",
      "71 0.8094579169383238 0.7909966728035938\n",
      "72 0.8089145695570016 0.7905410207180211\n",
      "73 0.8083717751127463 0.7900841149763926\n",
      "74 0.8078295238323261 0.7896260046037639\n",
      "75 0.8072878064396365 0.789166736497408\n",
      "76 0.806746614130413 0.7887063555469361\n",
      "77 0.8062059385483044 0.7882449047462552\n",
      "78 0.8056657717622298 0.7877824252980045\n",
      "79 0.8051261062449524 0.7873189567110613\n",
      "80 0.8045869348527965 0.7868545368916435\n",
      "81 0.8040482508064493 0.7863892022285004\n",
      "82 0.8035100476727839 0.7859229876726368\n",
      "83 0.8029723193476483 0.7854559268119756\n",
      "84 0.8024350600395651 0.7849880519413343\n",
      "85 0.8018982642542919 0.7845193941280555\n",
      "86 0.8013619267801942 0.7840499832736064\n",
      "87 0.8008260426743866 0.7835798481714331\n",
      "88 0.8002906072495969 0.7831090165613368\n",
      "89 0.7997556160617154 0.7826375151806138\n",
      "90 0.7992210648979916 0.7821653698121824\n",
      "91 0.7986869497658392 0.7816926053299065\n",
      "92 0.7981532668822198 0.7812192457413019\n",
      "93 0.7976200126635714 0.780745314227804\n",
      "94 0.7970871837162511 0.7802708331827595\n",
      "95 0.7965547768274657 0.7797958242472881\n",
      "96 0.7960227889566616 0.7793203083441589\n",
      "97 0.7954912172273506 0.7788443057098048\n",
      "98 0.7949600589193467 0.7783678359245974\n",
      "99 0.794429311461392 0.7778909179414897\n"
     ]
    }
   ],
   "source": [
    "for i in range(50,100):\n",
    "    rg = Ridge(alpha=i)\n",
    "    rg.fit(xtrain,ytrain)\n",
    "    y = rg.predict(xtest)\n",
    "    \n",
    "    print(f\"{i} {rg.score(xtrain,ytrain)} {rg.score(xtest,ytest)}\")"
   ]
  },
  {
   "cell_type": "code",
   "execution_count": 52,
   "id": "0e107842",
   "metadata": {
    "ExecuteTime": {
     "end_time": "2022-12-22T09:10:36.313166Z",
     "start_time": "2022-12-22T09:10:36.196991Z"
    },
    "collapsed": true
   },
   "outputs": [
    {
     "name": "stdout",
     "output_type": "stream",
     "text": [
      "450 0.826495459777952 0.8036044671547998\n",
      "451 0.8264278793532984 0.8035604699693127\n",
      "452 0.8263601489219581 0.8035163324259695\n",
      "453 0.8262922684839309 0.8034720545247707\n",
      "454 0.8262242380392166 0.8034276362657157\n",
      "455 0.8261560575689033 0.8033830776815429\n",
      "456 0.8260877270188918 0.8033383788653713\n",
      "457 0.8260192464617911 0.8032935396911636\n",
      "458 0.8259506158976013 0.8032485601589195\n",
      "459 0.8258818353263225 0.8032034402686394\n",
      "460 0.8258129047479545 0.8031581800203232\n",
      "461 0.8257438241624974 0.8031127794139707\n",
      "462 0.825674593569951 0.8030672384495823\n",
      "463 0.8256052129703156 0.8030215571271575\n",
      "464 0.8255356823635911 0.8029757354466966\n",
      "465 0.8254660017497774 0.8029297734081995\n",
      "466 0.8253961711288746 0.8028836710116662\n",
      "467 0.8253261905008826 0.8028374282570968\n",
      "468 0.8252560598658015 0.8027910451444913\n",
      "469 0.8251857792236313 0.8027445216738496\n",
      "470 0.825115348574372 0.8026978578451717\n",
      "471 0.8250447679180235 0.8026510536584577\n",
      "472 0.8249740372545858 0.8026041091137075\n",
      "473 0.8249031565840591 0.8025570242109211\n",
      "474 0.8248321259064433 0.8025097989500986\n",
      "475 0.8247609452217383 0.8024624333312398\n",
      "476 0.824689614529944 0.8024149273543449\n",
      "477 0.8246181338310609 0.802367281019414\n",
      "478 0.8245465031250885 0.8023194943264468\n",
      "479 0.8244747224120269 0.8022715672754435\n",
      "480 0.8244027916918762 0.802223499866404\n",
      "481 0.8243307109646364 0.8021752920993284\n",
      "482 0.8242584802303075 0.8021269439742165\n",
      "483 0.8241860994888894 0.8020784554910685\n",
      "484 0.8241135687403822 0.8020298266498842\n",
      "485 0.8240408879847858 0.801981057450664\n",
      "486 0.8239680572221004 0.8019321478934075\n",
      "487 0.8238950764523258 0.8018830979781147\n",
      "488 0.8238219456754621 0.801833907704786\n",
      "489 0.8237486648915092 0.8017845770734211\n",
      "490 0.8236752341004672 0.8017351060840199\n",
      "491 0.8236016533023361 0.8016854947365827\n",
      "492 0.8235279224971158 0.8016357430311092\n",
      "493 0.8234540416848064 0.8015858509675996\n",
      "494 0.823380010865408 0.8015358185460538\n",
      "495 0.8233058300389203 0.8014856457664719\n",
      "496 0.8232314992053436 0.8014353326288537\n",
      "497 0.8231570183646777 0.8013848791331994\n",
      "498 0.8230823875169226 0.801334285279509\n",
      "499 0.8230076066620784 0.8012835510677825\n"
     ]
    }
   ],
   "source": [
    "for i in range(450,500):\n",
    "    ls = Lasso(alpha=i)\n",
    "    ls.fit(xtrain,ytrain)\n",
    "    y = ls.predict(xtest)\n",
    "    \n",
    "    print(f\"{i} {ls.score(xtrain,ytrain)} {ls.score(xtest,ytest)}\")"
   ]
  },
  {
   "cell_type": "code",
   "execution_count": null,
   "id": "ce5c25c2",
   "metadata": {},
   "outputs": [],
   "source": []
  }
 ],
 "metadata": {
  "kernelspec": {
   "display_name": "Python 3 (ipykernel)",
   "language": "python",
   "name": "python3"
  },
  "language_info": {
   "codemirror_mode": {
    "name": "ipython",
    "version": 3
   },
   "file_extension": ".py",
   "mimetype": "text/x-python",
   "name": "python",
   "nbconvert_exporter": "python",
   "pygments_lexer": "ipython3",
   "version": "3.9.13"
  }
 },
 "nbformat": 4,
 "nbformat_minor": 5
}
